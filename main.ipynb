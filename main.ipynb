{
 "cells": [
  {
   "cell_type": "markdown",
   "id": "72c44237",
   "metadata": {},
   "source": [
    "# Análise exploratória de dados - The Global Hunger Index"
   ]
  },
  {
   "cell_type": "markdown",
   "id": "cc0a7db3",
   "metadata": {},
   "source": [
    "#### Importação de bibliotecas"
   ]
  },
  {
   "cell_type": "code",
   "execution_count": 1,
   "id": "ac9b72f1",
   "metadata": {},
   "outputs": [],
   "source": [
    "import pandas as pd\n",
    "import seaborn as sns\n",
    "import matplotlib.pyplot as plt"
   ]
  },
  {
   "cell_type": "markdown",
   "id": "98b56d26",
   "metadata": {},
   "source": [
    "#### Importação dos dados"
   ]
  },
  {
   "cell_type": "code",
   "execution_count": 2,
   "id": "1d30119e",
   "metadata": {},
   "outputs": [],
   "source": [
    "\n",
    "global_hunger_index = pd.read_csv(\"data/global-hunger-index.csv\")\n",
    "# underweight_children = pd.read_csv(\"data/share-of-children-underweight.csv\")\n",
    "# low_weight_children = pd.read_csv(\"data/share-of-children-with-a-weight-too-low-for-their-height-wasting.csv\")\n",
    "# stunting_children = pd.read_csv(\"data/share-of-children-younger-than-5-who-suffer-from-stunting.csv\")"
   ]
  },
  {
   "cell_type": "markdown",
   "id": "83ffd943",
   "metadata": {},
   "source": [
    "#### Visualização de uma amostra do nosso dataset"
   ]
  },
  {
   "cell_type": "code",
   "execution_count": 3,
   "id": "e399650a",
   "metadata": {
    "scrolled": false
   },
   "outputs": [
    {
     "data": {
      "text/html": [
       "<div>\n",
       "<style scoped>\n",
       "    .dataframe tbody tr th:only-of-type {\n",
       "        vertical-align: middle;\n",
       "    }\n",
       "\n",
       "    .dataframe tbody tr th {\n",
       "        vertical-align: top;\n",
       "    }\n",
       "\n",
       "    .dataframe thead th {\n",
       "        text-align: right;\n",
       "    }\n",
       "</style>\n",
       "<table border=\"1\" class=\"dataframe\">\n",
       "  <thead>\n",
       "    <tr style=\"text-align: right;\">\n",
       "      <th></th>\n",
       "      <th>Entity</th>\n",
       "      <th>Code</th>\n",
       "      <th>Year</th>\n",
       "      <th>Global Hunger Index (2021)</th>\n",
       "      <th>411773-annotations</th>\n",
       "    </tr>\n",
       "  </thead>\n",
       "  <tbody>\n",
       "    <tr>\n",
       "      <th>464</th>\n",
       "      <td>Vietnam</td>\n",
       "      <td>VNM</td>\n",
       "      <td>2021</td>\n",
       "      <td>13.6</td>\n",
       "      <td>NaN</td>\n",
       "    </tr>\n",
       "    <tr>\n",
       "      <th>361</th>\n",
       "      <td>Russia</td>\n",
       "      <td>RUS</td>\n",
       "      <td>2000</td>\n",
       "      <td>10.1</td>\n",
       "      <td>NaN</td>\n",
       "    </tr>\n",
       "    <tr>\n",
       "      <th>426</th>\n",
       "      <td>Togo</td>\n",
       "      <td>TGO</td>\n",
       "      <td>2012</td>\n",
       "      <td>25.3</td>\n",
       "      <td>NaN</td>\n",
       "    </tr>\n",
       "    <tr>\n",
       "      <th>395</th>\n",
       "      <td>Somalia</td>\n",
       "      <td>SOM</td>\n",
       "      <td>2021</td>\n",
       "      <td>50.8</td>\n",
       "      <td>NaN</td>\n",
       "    </tr>\n",
       "    <tr>\n",
       "      <th>179</th>\n",
       "      <td>Guinea-Bissau</td>\n",
       "      <td>GNB</td>\n",
       "      <td>2021</td>\n",
       "      <td>27.5</td>\n",
       "      <td>Value represents the mid-point of its group in...</td>\n",
       "    </tr>\n",
       "  </tbody>\n",
       "</table>\n",
       "</div>"
      ],
      "text/plain": [
       "            Entity Code  Year  Global Hunger Index (2021)  \\\n",
       "464        Vietnam  VNM  2021                        13.6   \n",
       "361         Russia  RUS  2000                        10.1   \n",
       "426           Togo  TGO  2012                        25.3   \n",
       "395        Somalia  SOM  2021                        50.8   \n",
       "179  Guinea-Bissau  GNB  2021                        27.5   \n",
       "\n",
       "                                    411773-annotations  \n",
       "464                                                NaN  \n",
       "361                                                NaN  \n",
       "426                                                NaN  \n",
       "395                                                NaN  \n",
       "179  Value represents the mid-point of its group in...  "
      ]
     },
     "execution_count": 3,
     "metadata": {},
     "output_type": "execute_result"
    }
   ],
   "source": [
    "global_hunger_index.sample(5)"
   ]
  },
  {
   "cell_type": "markdown",
   "id": "ec8f1c9e",
   "metadata": {},
   "source": [
    "#### Verificação dos tipos de dados do nosso dataset"
   ]
  },
  {
   "cell_type": "code",
   "execution_count": 4,
   "id": "e8cb8900",
   "metadata": {},
   "outputs": [
    {
     "data": {
      "text/plain": [
       "Entity                         object\n",
       "Code                           object\n",
       "Year                            int64\n",
       "Global Hunger Index (2021)    float64\n",
       "411773-annotations             object\n",
       "dtype: object"
      ]
     },
     "execution_count": 4,
     "metadata": {},
     "output_type": "execute_result"
    }
   ],
   "source": [
    "global_hunger_index.dtypes"
   ]
  },
  {
   "cell_type": "markdown",
   "id": "5cee50dd",
   "metadata": {},
   "source": [
    "#### Verificação do tamanho do nosso dataset. Quantas linhas e colunas ele contém"
   ]
  },
  {
   "cell_type": "code",
   "execution_count": 5,
   "id": "31e0ad63",
   "metadata": {
    "scrolled": true
   },
   "outputs": [
    {
     "data": {
      "text/plain": [
       "(471, 5)"
      ]
     },
     "execution_count": 5,
     "metadata": {},
     "output_type": "execute_result"
    }
   ],
   "source": [
    "global_hunger_index.shape"
   ]
  },
  {
   "cell_type": "markdown",
   "id": "f6279bd0",
   "metadata": {},
   "source": [
    "#### Quantos países estão presente nesse dataset?"
   ]
  },
  {
   "cell_type": "code",
   "execution_count": 25,
   "id": "b5d67ed4",
   "metadata": {},
   "outputs": [
    {
     "data": {
      "text/plain": [
       "128"
      ]
     },
     "execution_count": 25,
     "metadata": {},
     "output_type": "execute_result"
    }
   ],
   "source": [
    "len(pd.unique(global_hunger_index[\"Entity\"]))"
   ]
  },
  {
   "cell_type": "markdown",
   "id": "e1e0cd84",
   "metadata": {},
   "source": [
    "#### Verificando se existem valores nulos ou faltantes no dataset"
   ]
  },
  {
   "cell_type": "code",
   "execution_count": 6,
   "id": "1acec513",
   "metadata": {},
   "outputs": [
    {
     "data": {
      "text/plain": [
       "Entity                          0\n",
       "Code                            0\n",
       "Year                            0\n",
       "Global Hunger Index (2021)      0\n",
       "411773-annotations            459\n",
       "dtype: int64"
      ]
     },
     "execution_count": 6,
     "metadata": {},
     "output_type": "execute_result"
    }
   ],
   "source": [
    "global_hunger_index.isnull().sum()"
   ]
  },
  {
   "cell_type": "markdown",
   "id": "d0c84619",
   "metadata": {},
   "source": [
    "#### Foi possível observar que existem muitos valores faltando na coluna \"411773-annotations\". Mas qual a importância e do que se trata esse campo? Vamos visualizar um exemplo, já que as anotações são sempre as mesmas"
   ]
  },
  {
   "cell_type": "code",
   "execution_count": 7,
   "id": "7a55a359",
   "metadata": {
    "scrolled": true
   },
   "outputs": [
    {
     "data": {
      "text/plain": [
       "'Value represents the mid-point of its group in the GHI severity scale'"
      ]
     },
     "execution_count": 7,
     "metadata": {},
     "output_type": "execute_result"
    }
   ],
   "source": [
    "global_hunger_index[\"411773-annotations\"].dropna().tolist()[0]"
   ]
  },
  {
   "cell_type": "markdown",
   "id": "01f171bd",
   "metadata": {},
   "source": [
    "#### O que os registros que têm essa observação têm em comum?"
   ]
  },
  {
   "cell_type": "code",
   "execution_count": 8,
   "id": "88e3b367",
   "metadata": {},
   "outputs": [
    {
     "data": {
      "text/html": [
       "<div>\n",
       "<style scoped>\n",
       "    .dataframe tbody tr th:only-of-type {\n",
       "        vertical-align: middle;\n",
       "    }\n",
       "\n",
       "    .dataframe tbody tr th {\n",
       "        vertical-align: top;\n",
       "    }\n",
       "\n",
       "    .dataframe thead th {\n",
       "        text-align: right;\n",
       "    }\n",
       "</style>\n",
       "<table border=\"1\" class=\"dataframe\">\n",
       "  <thead>\n",
       "    <tr style=\"text-align: right;\">\n",
       "      <th></th>\n",
       "      <th>Entity</th>\n",
       "      <th>Code</th>\n",
       "      <th>Year</th>\n",
       "      <th>Global Hunger Index (2021)</th>\n",
       "      <th>411773-annotations</th>\n",
       "    </tr>\n",
       "  </thead>\n",
       "  <tbody>\n",
       "    <tr>\n",
       "      <th>64</th>\n",
       "      <td>Burundi</td>\n",
       "      <td>BDI</td>\n",
       "      <td>2021</td>\n",
       "      <td>42.5</td>\n",
       "      <td>Value represents the mid-point of its group in...</td>\n",
       "    </tr>\n",
       "    <tr>\n",
       "      <th>97</th>\n",
       "      <td>Comoros</td>\n",
       "      <td>COM</td>\n",
       "      <td>2021</td>\n",
       "      <td>42.5</td>\n",
       "      <td>Value represents the mid-point of its group in...</td>\n",
       "    </tr>\n",
       "    <tr>\n",
       "      <th>178</th>\n",
       "      <td>Guinea</td>\n",
       "      <td>GIN</td>\n",
       "      <td>2021</td>\n",
       "      <td>27.5</td>\n",
       "      <td>Value represents the mid-point of its group in...</td>\n",
       "    </tr>\n",
       "    <tr>\n",
       "      <th>179</th>\n",
       "      <td>Guinea-Bissau</td>\n",
       "      <td>GNB</td>\n",
       "      <td>2021</td>\n",
       "      <td>27.5</td>\n",
       "      <td>Value represents the mid-point of its group in...</td>\n",
       "    </tr>\n",
       "    <tr>\n",
       "      <th>284</th>\n",
       "      <td>Moldova</td>\n",
       "      <td>MDA</td>\n",
       "      <td>2021</td>\n",
       "      <td>5.0</td>\n",
       "      <td>Value represents the mid-point of its group in...</td>\n",
       "    </tr>\n",
       "    <tr>\n",
       "      <th>316</th>\n",
       "      <td>Niger</td>\n",
       "      <td>NER</td>\n",
       "      <td>2021</td>\n",
       "      <td>27.5</td>\n",
       "      <td>Value represents the mid-point of its group in...</td>\n",
       "    </tr>\n",
       "    <tr>\n",
       "      <th>400</th>\n",
       "      <td>South Sudan</td>\n",
       "      <td>SSD</td>\n",
       "      <td>2021</td>\n",
       "      <td>42.5</td>\n",
       "      <td>Value represents the mid-point of its group in...</td>\n",
       "    </tr>\n",
       "    <tr>\n",
       "      <th>411</th>\n",
       "      <td>Syria</td>\n",
       "      <td>SYR</td>\n",
       "      <td>2021</td>\n",
       "      <td>42.5</td>\n",
       "      <td>Value represents the mid-point of its group in...</td>\n",
       "    </tr>\n",
       "    <tr>\n",
       "      <th>412</th>\n",
       "      <td>Tajikistan</td>\n",
       "      <td>TJK</td>\n",
       "      <td>2021</td>\n",
       "      <td>15.0</td>\n",
       "      <td>Value represents the mid-point of its group in...</td>\n",
       "    </tr>\n",
       "    <tr>\n",
       "      <th>444</th>\n",
       "      <td>Uganda</td>\n",
       "      <td>UGA</td>\n",
       "      <td>2021</td>\n",
       "      <td>27.5</td>\n",
       "      <td>Value represents the mid-point of its group in...</td>\n",
       "    </tr>\n",
       "    <tr>\n",
       "      <th>469</th>\n",
       "      <td>Zambia</td>\n",
       "      <td>ZMB</td>\n",
       "      <td>2021</td>\n",
       "      <td>27.5</td>\n",
       "      <td>Value represents the mid-point of its group in...</td>\n",
       "    </tr>\n",
       "    <tr>\n",
       "      <th>470</th>\n",
       "      <td>Zimbabwe</td>\n",
       "      <td>ZWE</td>\n",
       "      <td>2021</td>\n",
       "      <td>27.5</td>\n",
       "      <td>Value represents the mid-point of its group in...</td>\n",
       "    </tr>\n",
       "  </tbody>\n",
       "</table>\n",
       "</div>"
      ],
      "text/plain": [
       "            Entity Code  Year  Global Hunger Index (2021)  \\\n",
       "64         Burundi  BDI  2021                        42.5   \n",
       "97         Comoros  COM  2021                        42.5   \n",
       "178         Guinea  GIN  2021                        27.5   \n",
       "179  Guinea-Bissau  GNB  2021                        27.5   \n",
       "284        Moldova  MDA  2021                         5.0   \n",
       "316          Niger  NER  2021                        27.5   \n",
       "400    South Sudan  SSD  2021                        42.5   \n",
       "411          Syria  SYR  2021                        42.5   \n",
       "412     Tajikistan  TJK  2021                        15.0   \n",
       "444         Uganda  UGA  2021                        27.5   \n",
       "469         Zambia  ZMB  2021                        27.5   \n",
       "470       Zimbabwe  ZWE  2021                        27.5   \n",
       "\n",
       "                                    411773-annotations  \n",
       "64   Value represents the mid-point of its group in...  \n",
       "97   Value represents the mid-point of its group in...  \n",
       "178  Value represents the mid-point of its group in...  \n",
       "179  Value represents the mid-point of its group in...  \n",
       "284  Value represents the mid-point of its group in...  \n",
       "316  Value represents the mid-point of its group in...  \n",
       "400  Value represents the mid-point of its group in...  \n",
       "411  Value represents the mid-point of its group in...  \n",
       "412  Value represents the mid-point of its group in...  \n",
       "444  Value represents the mid-point of its group in...  \n",
       "469  Value represents the mid-point of its group in...  \n",
       "470  Value represents the mid-point of its group in...  "
      ]
     },
     "execution_count": 8,
     "metadata": {},
     "output_type": "execute_result"
    }
   ],
   "source": [
    "global_hunger_index[global_hunger_index[\"411773-annotations\"].notnull()]"
   ]
  },
  {
   "cell_type": "markdown",
   "id": "2111bbcc",
   "metadata": {},
   "source": [
    "#### Nesses registros, o índice global da fome representa uma média, já que só existe um registro para cada um desses países."
   ]
  },
  {
   "cell_type": "markdown",
   "id": "26eabcf4",
   "metadata": {},
   "source": [
    "## Análises estatísticas"
   ]
  },
  {
   "cell_type": "markdown",
   "id": "60a4c8c1",
   "metadata": {},
   "source": [
    "#### Entendendo a distribuição dos dados"
   ]
  },
  {
   "cell_type": "code",
   "execution_count": 9,
   "id": "c82c68af",
   "metadata": {},
   "outputs": [
    {
     "data": {
      "text/html": [
       "<div>\n",
       "<style scoped>\n",
       "    .dataframe tbody tr th:only-of-type {\n",
       "        vertical-align: middle;\n",
       "    }\n",
       "\n",
       "    .dataframe tbody tr th {\n",
       "        vertical-align: top;\n",
       "    }\n",
       "\n",
       "    .dataframe thead th {\n",
       "        text-align: right;\n",
       "    }\n",
       "</style>\n",
       "<table border=\"1\" class=\"dataframe\">\n",
       "  <thead>\n",
       "    <tr style=\"text-align: right;\">\n",
       "      <th></th>\n",
       "      <th>count</th>\n",
       "      <th>mean</th>\n",
       "      <th>std</th>\n",
       "      <th>min</th>\n",
       "      <th>25%</th>\n",
       "      <th>50%</th>\n",
       "      <th>75%</th>\n",
       "      <th>max</th>\n",
       "    </tr>\n",
       "    <tr>\n",
       "      <th>Year</th>\n",
       "      <th></th>\n",
       "      <th></th>\n",
       "      <th></th>\n",
       "      <th></th>\n",
       "      <th></th>\n",
       "      <th></th>\n",
       "      <th></th>\n",
       "      <th></th>\n",
       "    </tr>\n",
       "  </thead>\n",
       "  <tbody>\n",
       "    <tr>\n",
       "      <th>2000</th>\n",
       "      <td>112.0</td>\n",
       "      <td>24.439286</td>\n",
       "      <td>15.144823</td>\n",
       "      <td>2.5</td>\n",
       "      <td>11.575</td>\n",
       "      <td>20.85</td>\n",
       "      <td>36.7</td>\n",
       "      <td>65.0</td>\n",
       "    </tr>\n",
       "    <tr>\n",
       "      <th>2006</th>\n",
       "      <td>115.0</td>\n",
       "      <td>21.043478</td>\n",
       "      <td>13.606514</td>\n",
       "      <td>2.5</td>\n",
       "      <td>9.000</td>\n",
       "      <td>17.50</td>\n",
       "      <td>31.4</td>\n",
       "      <td>57.9</td>\n",
       "    </tr>\n",
       "    <tr>\n",
       "      <th>2012</th>\n",
       "      <td>116.0</td>\n",
       "      <td>17.508621</td>\n",
       "      <td>12.092452</td>\n",
       "      <td>2.5</td>\n",
       "      <td>8.100</td>\n",
       "      <td>12.90</td>\n",
       "      <td>26.3</td>\n",
       "      <td>65.1</td>\n",
       "    </tr>\n",
       "    <tr>\n",
       "      <th>2021</th>\n",
       "      <td>128.0</td>\n",
       "      <td>16.790625</td>\n",
       "      <td>11.664938</td>\n",
       "      <td>2.5</td>\n",
       "      <td>7.125</td>\n",
       "      <td>14.45</td>\n",
       "      <td>24.8</td>\n",
       "      <td>50.8</td>\n",
       "    </tr>\n",
       "  </tbody>\n",
       "</table>\n",
       "</div>"
      ],
      "text/plain": [
       "      count       mean        std  min     25%    50%   75%   max\n",
       "Year                                                             \n",
       "2000  112.0  24.439286  15.144823  2.5  11.575  20.85  36.7  65.0\n",
       "2006  115.0  21.043478  13.606514  2.5   9.000  17.50  31.4  57.9\n",
       "2012  116.0  17.508621  12.092452  2.5   8.100  12.90  26.3  65.1\n",
       "2021  128.0  16.790625  11.664938  2.5   7.125  14.45  24.8  50.8"
      ]
     },
     "execution_count": 9,
     "metadata": {},
     "output_type": "execute_result"
    }
   ],
   "source": [
    "global_hunger_index.groupby(\"Year\")[\"Global Hunger Index (2021)\"].describe()"
   ]
  },
  {
   "cell_type": "markdown",
   "id": "c880f74b",
   "metadata": {},
   "source": [
    "#### A tabela acima apresenta algumas estatísticas sobre os nossos dados.\n",
    "- count: quantos registros temos por ano\n",
    "- mean: média do índice por ano\n",
    "- std: desvio padrão\n",
    "- min: representa o valor mínimo\n",
    "- max representa o valor máximo\n",
    "\n",
    "As colunas 25%, 50% e 70% representa os quartis, sendo que o 50% representa a mediana"
   ]
  },
  {
   "cell_type": "markdown",
   "id": "46267016",
   "metadata": {},
   "source": [
    "#### Para facilitar a visualização vamos gerar um boxplot"
   ]
  },
  {
   "cell_type": "code",
   "execution_count": 10,
   "id": "66d989d2",
   "metadata": {},
   "outputs": [
    {
     "data": {
      "image/png": "[encoded data removed]",
      "text/plain": [
       "<Figure size 432x288 with 1 Axes>"
      ]
     },
     "metadata": {
      "needs_background": "light"
     },
     "output_type": "display_data"
    }
   ],
   "source": [
    "sns.boxplot(data=global_hunger_index, x=\"Year\", y=\"Global Hunger Index (2021)\");"
   ]
  },
  {
   "cell_type": "markdown",
   "id": "13ad3aa6",
   "metadata": {},
   "source": [
    "#### Algumas considerações que podem ser feitas:\n",
    "- Apesar de os valores máximos para o ano 2000 e 2012 serem praticamente idênticos, 65.0 e 65.1 respectivamente, por que o valor em 2012 é considerado um outlier e 2000 não? Uma das formas de se calcular um outlier é utilizando o intervalo interquartílico (25% e 75%). Como não temos um outlier abaixo, vamos calcular apenas o limite superior. Ele é calculado da seguinte forma: terceiro quartil + 1,2(terceiro - primeiro quartil). Sendo assim temos: 26,3 + 1,2(26,3 - 8,1) = 48,14. Sendo assim, o índice máximo sem ser considerado um outlier é aproximadamente 48.\n",
    "\n",
    "- No ano 2000, 56 países têm índice menor ou igual a 20.85, enquanto o restando tem índice maior. Esse ano é o que tem a maior amplitude de índices.\n",
    "- No ano 2006, por volta de 57 países têm índice menor ou igual a 17,50, enquanto o restante tem índice maior. \n",
    "\n",
    "- O ano de 2012 é o que tem a menor amplitude de índices, apesar de ter o maior índice registrado (mas como já vimos ele é um outlier). 58 países têm índice menor ou igual a 12,9.\n",
    "\n",
    "- O ano de 2021 tem 64 países com índice menor ou igual a 14,45. Apesar de a distribuição ser parecida com o ano de 2012, ele tem mais países com um índice mais alto (sem considerar o outlier do ano 2012)\n",
    "\n",
    "- Para escolher um número que representa melhor o índice de cada ano é aconselhável escolhermos sempre a mediana (ou o percentil 50%), já que ele desconsidera os outliers. Se nossa escolha fosse a média, o ano de 2021 demonstraria ter índices melhores do que 2012. Já quando escolhemos a mediana, vemos que 2012 se mostra o ano com os melhores índices (quanto mais baixo melhor).\n",
    "\n",
    "- De 2000 para 2012 podemos observar uma redução drástica no índice da fome, enquanto de 2012 para 2021 podemos verificar um pequeno aumento"
   ]
  },
  {
   "cell_type": "markdown",
   "id": "0187b2d4",
   "metadata": {},
   "source": [
    "#### Visualizando a evolução do índice por país"
   ]
  },
  {
   "cell_type": "code",
   "execution_count": 11,
   "id": "66f09885",
   "metadata": {},
   "outputs": [],
   "source": [
    "def dados_por_pais(pais):\n",
    "    print(global_hunger_index[global_hunger_index[\"Entity\"] == pais]);\n",
    "    return global_hunger_index[global_hunger_index[\"Entity\"] == pais].plot(\n",
    "        title=f\"Evolução do índice da fome {pais}\", x=\"Year\", y=\"Global Hunger Index (2021)\", xlabel=\"Ano\", ylabel=\"Índice\")"
   ]
  },
  {
   "cell_type": "code",
   "execution_count": 12,
   "id": "5a695f8c",
   "metadata": {},
   "outputs": [
    {
     "name": "stdout",
     "output_type": "stream",
     "text": [
      "    Entity Code  Year  Global Hunger Index (2021) 411773-annotations\n",
      "52  Brazil  BRA  2000                        11.5                NaN\n",
      "53  Brazil  BRA  2006                         7.4                NaN\n",
      "54  Brazil  BRA  2012                         5.5                NaN\n",
      "55  Brazil  BRA  2021                         2.5                NaN\n"
     ]
    },
    {
     "data": {
      "text/plain": [
       "<AxesSubplot:title={'center':'Evolução do índice da fome Brazil'}, xlabel='Ano', ylabel='Índice'>"
      ]
     },
     "execution_count": 12,
     "metadata": {},
     "output_type": "execute_result"
    },
    {
     "data": {
      "image/png": "[encoded data removed]",
      "text/plain": [
       "<Figure size 432x288 with 1 Axes>"
      ]
     },
     "metadata": {
      "needs_background": "light"
     },
     "output_type": "display_data"
    }
   ],
   "source": [
    "dados_por_pais(\"Brazil\")"
   ]
  },
  {
   "cell_type": "markdown",
   "id": "6f6c4e10",
   "metadata": {},
   "source": [
    "##### Comparação entre países"
   ]
  },
  {
   "cell_type": "code",
   "execution_count": 96,
   "id": "9b6507e2",
   "metadata": {},
   "outputs": [],
   "source": [
    "def compara_paises(pais1, pais2):\n",
    "    pais1 = global_hunger_index[global_hunger_index[\"Entity\"] == pais1]\n",
    "    pais2 = global_hunger_index[global_hunger_index[\"Entity\"] == pais2]\n",
    "    comparacao = pd.concat([pais1, pais2])\n",
    "    comparacao.set_index(\"Year\", inplace=True)\n",
    "    comparacao.groupby(\"Entity\")[\"Global Hunger Index (2021)\"].plot(legend=True,xlabel=\"Ano\", ylabel=\"índice\")"
   ]
  },
  {
   "cell_type": "code",
   "execution_count": 97,
   "id": "5ac0c9ab",
   "metadata": {},
   "outputs": [
    {
     "data": {
      "image/png": "[encoded data removed]",
      "text/plain": [
       "<Figure size 432x288 with 1 Axes>"
      ]
     },
     "metadata": {
      "needs_background": "light"
     },
     "output_type": "display_data"
    }
   ],
   "source": [
    "compara_paises(\"Brazil\", \"Chile\")"
   ]
  },
  {
   "cell_type": "markdown",
   "id": "33bcbf30",
   "metadata": {},
   "source": [
    "#### Qual país contém o valor máximo para o índice global da fome?"
   ]
  },
  {
   "cell_type": "code",
   "execution_count": 13,
   "id": "17c68aee",
   "metadata": {},
   "outputs": [
    {
     "data": {
      "text/plain": [
       "Entity                        Somalia\n",
       "Code                              SOM\n",
       "Year                             2012\n",
       "Global Hunger Index (2021)       65.1\n",
       "411773-annotations                NaN\n",
       "Name: 394, dtype: object"
      ]
     },
     "execution_count": 13,
     "metadata": {},
     "output_type": "execute_result"
    }
   ],
   "source": [
    "global_hunger_index.loc[global_hunger_index[\"Global Hunger Index (2021)\"].idxmax()]"
   ]
  },
  {
   "cell_type": "markdown",
   "id": "8ab3c372",
   "metadata": {},
   "source": [
    "#### E qual  contém o índice mais baixo?"
   ]
  },
  {
   "cell_type": "code",
   "execution_count": 14,
   "id": "84026997",
   "metadata": {
    "scrolled": false
   },
   "outputs": [
    {
     "data": {
      "text/plain": [
       "Entity                        Belarus\n",
       "Code                              BLR\n",
       "Year                             2000\n",
       "Global Hunger Index (2021)        2.5\n",
       "411773-annotations                NaN\n",
       "Name: 32, dtype: object"
      ]
     },
     "execution_count": 14,
     "metadata": {},
     "output_type": "execute_result"
    }
   ],
   "source": [
    "global_hunger_index.loc[global_hunger_index[\"Global Hunger Index (2021)\"].idxmin()]"
   ]
  }
 ],
 "metadata": {
  "kernelspec": {
   "display_name": "Python 3 (ipykernel)",
   "language": "python",
   "name": "python3"
  },
  "language_info": {
   "codemirror_mode": {
    "name": "ipython",
    "version": 3
   },
   "file_extension": ".py",
   "mimetype": "text/x-python",
   "name": "python",
   "nbconvert_exporter": "python",
   "pygments_lexer": "ipython3",
   "version": "3.9.12"
  }
 },
 "nbformat": 4,
 "nbformat_minor": 5
}
